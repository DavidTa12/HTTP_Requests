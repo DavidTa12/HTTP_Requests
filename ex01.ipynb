{
 "cells": [
  {
   "cell_type": "markdown",
   "metadata": {},
   "source": [
    "# Import + API GET with 1h token"
   ]
  },
  {
   "cell_type": "code",
   "execution_count": 2,
   "metadata": {},
   "outputs": [],
   "source": [
    "import requests\n",
    "import json\n",
    "\n",
    "class BearerAuth(requests.auth.AuthBase):\n",
    "    def __init__(self, token):\n",
    "        self.token = token\n",
    "    def __call__(self, r):\n",
    "        r.headers[\"authorization\"] = \"Bearer \" + self.token\n",
    "        return r"
   ]
  },
  {
   "cell_type": "code",
   "execution_count": 3,
   "metadata": {},
   "outputs": [
    {
     "name": "stdout",
     "output_type": "stream",
     "text": [
      "<Response [200]>\n",
      "{\"@odata.context\":\"https://graph.microsoft.com/beta/$metadata#directoryObjects\",\"value\":[{\"@odata.type\":\"#microsoft.graph.group\",\"id\":\"670f71a9-df13-4b92-80ae-eb7dc5099041\",\"deletedDateTime\":null,\"classification\":null,\"createdDateTime\":\"2020-10-29T15:23:10Z\",\"createdByAppId\":\"cc15fd57-2c6c-4117-a88c-83b1d56b4bbe\",\"description\":\"[MRS] Coding\",\"displayName\":\"[MRS] Dev&go\",\"expirationDateTime\":null,\"groupTypes\":[\"Unified\"],\"infoCatalogs\":[],\"isAssignableToRole\":null,\"isManagementRestricted\":null,\"mail\":\"MRSCoding@epitechfr.onmicrosoft.com\",\"mailEnabled\":true,\"mailNickname\":\"MRSCoding\",\"membershipRule\":null,\"membershipRuleProcessingState\":null,\"onPremisesDomainName\":null,\"onPremisesLastSyncDateTime\":null,\"onPremisesNetBiosName\":null,\"onPremisesSamAccountName\":null,\"onPremisesSecurityIdentifier\":null,\"onPremisesSyncEnabled\":null,\"preferredDataLocation\":null,\"preferredLanguage\":null,\"proxyAddresses\":[\"SPO:SPO_62e205f8-7e84-474e-9c91-2020c1c6d4b2@SPO_901cb4ca-b862-4029-9306-e5cd0f6d9f86\",\"SMTP:MRSCoding@epitechfr.onmicrosoft.com\"],\"renewedDateTime\":\"2020-10-29T15:23:10Z\",\"resourceBehaviorOptions\":[\"HideGroupInOutlook\",\"WelcomeEmailDisabled\",\"ConnectorsDisabled\",\"SubscribeNewGroupMembers\"],\"resourceProvisioningOptions\":[\"Team\"],\"securityEnabled\":false,\"securityIdentifier\":\"S-1-12-1-1729065385-1267916563-2112597632-1099958725\",\"theme\":null,\"visibility\":\"HiddenMembership\",\"writebackConfiguration\":{\"isEnabled\":null,\"onPremisesGroupType\":null},\"extension_fe2174665583431c953114ff7268b7b3_Education_ObjectType\":\"Section\",\"onPremisesProvisioningErrors\":[]},{\"@odata.type\":\"#microsoft.graph.group\",\"id\":\"ccdcefda-37a2-4b51-9891-d2a6e80a6427\",\"deletedDateTime\":null,\"classification\":null,\"createdDateTime\":\"2020-11-03T18:19:43Z\",\"createdByAppId\":\"cc15fd57-2c6c-4117-a88c-83b1d56b4bbe\",\"description\":\"Dev&Go_Natio\",\"displayName\":\"Dev&Go_Natio\",\"expirationDateTime\":null,\"groupTypes\":[\"Unified\"],\"infoCatalogs\":[],\"isAssignableToRole\":null,\"isManagementRestricted\":null,\"mail\":\"DevGo_Natio@epitechfr.onmicrosoft.com\",\"mailEnabled\":true,\"mailNickname\":\"DevGo_Natio\",\"membershipRule\":null,\"membershipRuleProcessingState\":null,\"onPremisesDomainName\":null,\"onPremisesLastSyncDateTime\":null,\"onPremisesNetBiosName\":null,\"onPremisesSamAccountName\":null,\"onPremisesSecurityIdentifier\":null,\"onPremisesSyncEnabled\":null,\"preferredDataLocation\":null,\"preferredLanguage\":null,\"proxyAddresses\":[\"SPO:SPO_7c413a8d-651c-470c-933e-6a74400783e3@SPO_901cb4ca-b862-4029-9306-e5cd0f6d9f86\",\"SMTP:DevGo_Natio@epitechfr.onmicrosoft.com\"],\"renewedDateTime\":\"2020-11-03T18:19:43Z\",\"resourceBehaviorOptions\":[\"HideGroupInOutlook\",\"WelcomeEmailDisabled\",\"ConnectorsDisabled\",\"SubscribeNewGroupMembers\"],\"resourceProvisioningOptions\":[\"Team\"],\"securityEnabled\":false,\"securityIdentifier\":\"S-1-12-1-3437031386-1263613858-2798817688-660867816\",\"theme\":null,\"visibility\":\"HiddenMembership\",\"writebackConfiguration\":{\"isEnabled\":null,\"onPremisesGroupType\":null},\"extension_fe2174665583431c953114ff7268b7b3_Education_ObjectType\":\"Section\",\"onPremisesProvisioningErrors\":[]},{\"@odata.type\":\"#microsoft.graph.group\",\"id\":\"e20b4cd7-91be-48ab-ac8d-fe46abd1b6ad\",\"deletedDateTime\":null,\"classification\":null,\"createdDateTime\":\"2020-12-07T11:25:40Z\",\"createdByAppId\":\"cc15fd57-2c6c-4117-a88c-83b1d56b4bbe\",\"description\":\"Sp\\u00e9cialit\\u00e9 DATA / IA de D\\u00e9cembre 2020\",\"displayName\":\"Sp\\u00e9 DATA / IA #1220\",\"expirationDateTime\":null,\"groupTypes\":[\"Unified\"],\"infoCatalogs\":[],\"isAssignableToRole\":null,\"isManagementRestricted\":null,\"mail\":\"SpDATAIA1220@epitechfr.onmicrosoft.com\",\"mailEnabled\":true,\"mailNickname\":\"SpDATAIA1220\",\"membershipRule\":null,\"membershipRuleProcessingState\":null,\"onPremisesDomainName\":null,\"onPremisesLastSyncDateTime\":null,\"onPremisesNetBiosName\":null,\"onPremisesSamAccountName\":null,\"onPremisesSecurityIdentifier\":null,\"onPremisesSyncEnabled\":null,\"preferredDataLocation\":null,\"preferredLanguage\":null,\"proxyAddresses\":[\"SPO:SPO_80a53fe1-ba30-4c3d-871d-41e3c5b18f65@SPO_901cb4ca-b862-4029-9306-e5cd0f6d9f86\",\"SMTP:SpDATAIA1220@epitechfr.onmicrosoft.com\"],\"renewedDateTime\":\"2020-12-07T11:25:40Z\",\"resourceBehaviorOptions\":[\"HideGroupInOutlook\",\"WelcomeEmailDisabled\",\"ConnectorsDisabled\",\"SubscribeNewGroupMembers\"],\"resourceProvisioningOptions\":[\"Team\"],\"securityEnabled\":false,\"securityIdentifier\":\"S-1-12-1-3792391383-1219203518-1191087532-2914439595\",\"theme\":null,\"visibility\":\"HiddenMembership\",\"writebackConfiguration\":{\"isEnabled\":null,\"onPremisesGroupType\":null},\"extension_fe2174665583431c953114ff7268b7b3_Education_ObjectType\":\"Section\",\"onPremisesProvisioningErrors\":[]}]}\n"
     ]
    }
   ],
   "source": [
    "r = requests.get('https://graph.microsoft.com/beta/me/memberOf', auth=BearerAuth('eyJ0eXAiOiJKV1QiLCJub25jZSI6InMta2ZsUWJjWDdRdVh0VTZxZXA1RlBXZS1oaERmd1JKTnNPRDdneXhuRTAiLCJhbGciOiJSUzI1NiIsIng1dCI6IjVPZjlQNUY5Z0NDd0NtRjJCT0hIeEREUS1EayIsImtpZCI6IjVPZjlQNUY5Z0NDd0NtRjJCT0hIeEREUS1EayJ9.eyJhdWQiOiIwMDAwMDAwMy0wMDAwLTAwMDAtYzAwMC0wMDAwMDAwMDAwMDAiLCJpc3MiOiJodHRwczovL3N0cy53aW5kb3dzLm5ldC85MDFjYjRjYS1iODYyLTQwMjktOTMwNi1lNWNkMGY2ZDlmODYvIiwiaWF0IjoxNjA4MTk0ODk5LCJuYmYiOjE2MDgxOTQ4OTksImV4cCI6MTYwODE5ODc5OSwiYWNjdCI6MCwiYWNyIjoiMSIsImFjcnMiOlsidXJuOnVzZXI6cmVnaXN0ZXJzZWN1cml0eWluZm8iLCJ1cm46bWljcm9zb2Z0OnJlcTEiLCJ1cm46bWljcm9zb2Z0OnJlcTIiLCJ1cm46bWljcm9zb2Z0OnJlcTMiLCJjMSIsImMyIiwiYzMiLCJjNCIsImM1IiwiYzYiLCJjNyIsImM4IiwiYzkiLCJjMTAiLCJjMTEiLCJjMTIiLCJjMTMiLCJjMTQiLCJjMTUiLCJjMTYiLCJjMTciLCJjMTgiLCJjMTkiLCJjMjAiLCJjMjEiLCJjMjIiLCJjMjMiLCJjMjQiLCJjMjUiXSwiYWlvIjoiQVVRQXUvOFNBQUFBVlp5c2M0blJTbUZjVjNEbGxZQ01TaHNDUkFuVlZtcmpsUnZsZ0Z1V0lPZVdiU0VBY1FlVmxDU1V0TXdCZnVvR3dDQ2JSVWVKTmJPbmhBOWkvYlB6bGc9PSIsImFtciI6WyJwd2QiLCJtZmEiXSwiYXBwX2Rpc3BsYXluYW1lIjoiR3JhcGggZXhwbG9yZXIgKG9mZmljaWFsIHNpdGUpIiwiYXBwaWQiOiJkZThiYzhiNS1kOWY5LTQ4YjEtYThhZC1iNzQ4ZGE3MjUwNjQiLCJhcHBpZGFjciI6IjAiLCJmYW1pbHlfbmFtZSI6IlRhIiwiZ2l2ZW5fbmFtZSI6IkRhdmlkIiwiaWR0eXAiOiJ1c2VyIiwiaW5fY29ycCI6InRydWUiLCJpcGFkZHIiOiIzNy4xNjUuMjIxLjIyNSIsIm5hbWUiOiJEYXZpZCBUYSIsIm9pZCI6ImQ5OGE1OTgwLTJjZWItNGRhYi1hNmU2LTE1ZmQ1ZTc1MTVlYyIsIm9ucHJlbV9zaWQiOiJTLTEtNS0yMS0xNTUyNDM1Mjc3LTE1OTY0OTU3OTUtMzA4OTYxMzczMS00MDk4MSIsInBsYXRmIjoiMyIsInB1aWQiOiIxMDAzMjAwMEU5OUU0NDZBIiwicmgiOiIwLkFBQUF5clFja0dLNEtVQ1RCdVhORDIyZmhyWElpOTc1MmJGSXFLMjNTTnB5VUdSMEFPVS4iLCJzY3AiOiJHcm91cC5SZWFkLkFsbCBHcm91cC5SZWFkV3JpdGUuQWxsIG9wZW5pZCBwcm9maWxlIFVzZXIuUmVhZCBlbWFpbCIsInNpZ25pbl9zdGF0ZSI6WyJrbXNpIl0sInN1YiI6ImV3Z1BmVFZsek5QcTJrSDVUOTNINGNXSUVJTlNYTFNOc3ptNmIwd25fTzgiLCJ0ZW5hbnRfcmVnaW9uX3Njb3BlIjoiRVUiLCJ0aWQiOiI5MDFjYjRjYS1iODYyLTQwMjktOTMwNi1lNWNkMGY2ZDlmODYiLCJ1bmlxdWVfbmFtZSI6ImRhdmlkLnRhQGVwaXRlY2guZXUiLCJ1cG4iOiJkYXZpZC50YUBlcGl0ZWNoLmV1IiwidXRpIjoiM0hvcFZkMEt4RWVRSzl0YUxqdUdBQSIsInZlciI6IjEuMCIsIndpZHMiOlsiYjc5ZmJmNGQtM2VmOS00Njg5LTgxNDMtNzZiMTk0ZTg1NTA5Il0sInhtc19zdCI6eyJzdWIiOiJtS09VVXVURm1aeTZxRFZPNFA1eUJoaFpVLXd3NU8wb0tBYnA3RzhPYUN3In0sInhtc190Y2R0IjoxNDE3ODA0ODg3fQ.hTsad3av7rG8Mc_HgIWewKDr3u4Fz98E5ZbvwV5hhLZYgL3MVipcKqFP3m1qK43qrhSO3NOD9US_DXawbbQakpi1xrT_yZS0SbJ_dJl7peJfiTEEPAZ12_mhCCQOYwDJ1MdwPiSSTEmxZaxaMQdUaS4LrtXzhm0jaVsbhItEro76T_a1hvTWmiCte0_EW8hhFXA1Wa-KhkvPnVM4Rcz1isAN6li2dslzcTS0SyFcD4kQu-JaBdEWNgLbxn9p2GtK4DgxDT2Rp2QetnFh-JXtOUYZfYp2Vd1R9XzCMYW6iq7kM3yeqN0l4ZuYzOD9W6Cp7c6xdR95DpyHcrh43mU9ow'))\n",
    "print(r)\n",
    "print(r.text)\n",
    "#newjson = r.json()"
   ]
  },
  {
   "cell_type": "markdown",
   "metadata": {},
   "source": [
    "# Création de ma fonction"
   ]
  },
  {
   "cell_type": "code",
   "execution_count": 4,
   "metadata": {},
   "outputs": [
    {
     "name": "stdout",
     "output_type": "stream",
     "text": [
      "{'[MRS] Dev&go': '670f71a9-df13-4b92-80ae-eb7dc5099041', 'Dev&Go_Natio': 'ccdcefda-37a2-4b51-9891-d2a6e80a6427', 'Spé DATA / IA #1220': 'e20b4cd7-91be-48ab-ac8d-fe46abd1b6ad'}\n",
      "[MRS] Dev&go\n",
      "Dev&Go_Natio\n",
      "Spé DATA / IA #1220\n"
     ]
    }
   ],
   "source": [
    "def memberOf():\n",
    "    \n",
    "    content = json.loads(r.text)\n",
    "    teams = content[\"value\"] #récupération que de \"value\"\n",
    "\n",
    "    result_dict = {} #création du dict que je veux\n",
    "    for team in teams:\n",
    "        display_name = team[\"displayName\"]\n",
    "        id = team[\"id\"]\n",
    "        result_dict.update({display_name: id}) #affichage/update par rapport à ce que veut la consigne\n",
    "        \n",
    "    print(result_dict)\n",
    "    return result_dict\n",
    "    \n",
    "teams = memberOf ()\n",
    "for team in teams :\n",
    "    print(team)"
   ]
  },
  {
   "cell_type": "code",
   "execution_count": null,
   "metadata": {},
   "outputs": [],
   "source": []
  }
 ],
 "metadata": {
  "kernelspec": {
   "display_name": "Python 3",
   "language": "python",
   "name": "python3"
  },
  "language_info": {
   "codemirror_mode": {
    "name": "ipython",
    "version": 3
   },
   "file_extension": ".py",
   "mimetype": "text/x-python",
   "name": "python",
   "nbconvert_exporter": "python",
   "pygments_lexer": "ipython3",
   "version": "3.9.0"
  }
 },
 "nbformat": 4,
 "nbformat_minor": 4
}
