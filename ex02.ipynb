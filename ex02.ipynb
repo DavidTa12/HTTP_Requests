{
 "cells": [
  {
   "cell_type": "code",
   "execution_count": 1,
   "metadata": {},
   "outputs": [],
   "source": [
    "import requests\n",
    "import json\n",
    "\n",
    "class BearerAuth(requests.auth.AuthBase):\n",
    "    def __init__(self, token):\n",
    "        self.token = token\n",
    "    def __call__(self, r):\n",
    "        r.headers[\"authorization\"] = \"Bearer \" + self.token\n",
    "        return r"
   ]
  },
  {
   "cell_type": "code",
   "execution_count": 2,
   "metadata": {},
   "outputs": [
    {
     "name": "stdout",
     "output_type": "stream",
     "text": [
      "<Response [200]>\n",
      "{\"@odata.context\":\"https://graph.microsoft.com/beta/$metadata#teams('e20b4cd7-91be-48ab-ac8d-fe46abd1b6ad')/channels\",\"@odata.count\":7,\"value\":[{\"id\":\"19:860d4f4a79cd4932a4a3daa29db8f784@thread.tacv2\",\"createdDateTime\":\"2020-12-07T11:25:41.748Z\",\"displayName\":\"General\",\"description\":\"Sp\\u00e9cialit\\u00e9 DATA / IA de D\\u00e9cembre 2020\",\"isFavoriteByDefault\":null,\"email\":\"\",\"webUrl\":\"https://teams.microsoft.com/l/channel/19%3a860d4f4a79cd4932a4a3daa29db8f784%40thread.tacv2/General?groupId=e20b4cd7-91be-48ab-ac8d-fe46abd1b6ad&tenantId=901cb4ca-b862-4029-9306-e5cd0f6d9f86\",\"membershipType\":\"standard\",\"moderationSettings\":null},{\"id\":\"19:36be2edc99144232a0819f8ec29a8055@thread.tacv2\",\"createdDateTime\":\"2020-12-11T10:44:41.992Z\",\"displayName\":\"C-DAT-100 - Python Data Structure\",\"description\":null,\"isFavoriteByDefault\":true,\"email\":\"\",\"webUrl\":\"https://teams.microsoft.com/l/channel/19%3a36be2edc99144232a0819f8ec29a8055%40thread.tacv2/C-DAT-100+-+Python+Data+Structure?groupId=e20b4cd7-91be-48ab-ac8d-fe46abd1b6ad&tenantId=901cb4ca-b862-4029-9306-e5cd0f6d9f86\",\"membershipType\":\"standard\",\"moderationSettings\":{\"userNewMessageRestriction\":\"everyone\",\"replyRestriction\":\"everyone\",\"allowNewMessageFromBots\":true,\"allowNewMessageFromConnectors\":true}},{\"id\":\"19:972cb074d0b94cc6b6fb1e2394ab1e69@thread.tacv2\",\"createdDateTime\":\"2020-12-11T10:44:54.199Z\",\"displayName\":\"C-DAT-100 - Python Data Structure Yet Again\",\"description\":null,\"isFavoriteByDefault\":true,\"email\":\"\",\"webUrl\":\"https://teams.microsoft.com/l/channel/19%3a972cb074d0b94cc6b6fb1e2394ab1e69%40thread.tacv2/C-DAT-100+-+Python+Data+Structure+Yet+Again?groupId=e20b4cd7-91be-48ab-ac8d-fe46abd1b6ad&tenantId=901cb4ca-b862-4029-9306-e5cd0f6d9f86\",\"membershipType\":\"standard\",\"moderationSettings\":{\"userNewMessageRestriction\":\"everyone\",\"replyRestriction\":\"everyone\",\"allowNewMessageFromBots\":true,\"allowNewMessageFromConnectors\":true}},{\"id\":\"19:d7f803282158482abebd31b264ae4c68@thread.tacv2\",\"createdDateTime\":\"2020-12-11T10:45:11.961Z\",\"displayName\":\"C-DAT-100 - HTTP Requests\",\"description\":null,\"isFavoriteByDefault\":true,\"email\":\"\",\"webUrl\":\"https://teams.microsoft.com/l/channel/19%3ad7f803282158482abebd31b264ae4c68%40thread.tacv2/C-DAT-100+-+HTTP+Requests?groupId=e20b4cd7-91be-48ab-ac8d-fe46abd1b6ad&tenantId=901cb4ca-b862-4029-9306-e5cd0f6d9f86\",\"membershipType\":\"standard\",\"moderationSettings\":{\"userNewMessageRestriction\":\"everyone\",\"replyRestriction\":\"everyone\",\"allowNewMessageFromBots\":true,\"allowNewMessageFromConnectors\":true}},{\"id\":\"19:090a3e6fd21f4a17ac8832e65d61a0c7@thread.tacv2\",\"createdDateTime\":\"2020-12-11T10:47:23.272Z\",\"displayName\":\"C-DAT-100 - Web Scraping\",\"description\":null,\"isFavoriteByDefault\":true,\"email\":\"\",\"webUrl\":\"https://teams.microsoft.com/l/channel/19%3a090a3e6fd21f4a17ac8832e65d61a0c7%40thread.tacv2/C-DAT-100+-+Web+Scraping?groupId=e20b4cd7-91be-48ab-ac8d-fe46abd1b6ad&tenantId=901cb4ca-b862-4029-9306-e5cd0f6d9f86\",\"membershipType\":\"standard\",\"moderationSettings\":{\"userNewMessageRestriction\":\"everyone\",\"replyRestriction\":\"everyone\",\"allowNewMessageFromBots\":true,\"allowNewMessageFromConnectors\":true}},{\"id\":\"19:dddfd7fdfefa4c909ab8afe560ce87bc@thread.tacv2\",\"createdDateTime\":\"2020-12-11T10:47:40.456Z\",\"displayName\":\"C-DAT-100 - HTTP Server\",\"description\":null,\"isFavoriteByDefault\":true,\"email\":\"\",\"webUrl\":\"https://teams.microsoft.com/l/channel/19%3adddfd7fdfefa4c909ab8afe560ce87bc%40thread.tacv2/C-DAT-100+-+HTTP+Server?groupId=e20b4cd7-91be-48ab-ac8d-fe46abd1b6ad&tenantId=901cb4ca-b862-4029-9306-e5cd0f6d9f86\",\"membershipType\":\"standard\",\"moderationSettings\":{\"userNewMessageRestriction\":\"everyone\",\"replyRestriction\":\"everyone\",\"allowNewMessageFromBots\":true,\"allowNewMessageFromConnectors\":true}},{\"id\":\"19:81dc314389154e1998411bf683932381@thread.tacv2\",\"createdDateTime\":\"2020-12-11T10:49:46.172Z\",\"displayName\":\"Groupe 03\",\"description\":null,\"isFavoriteByDefault\":null,\"email\":\"\",\"webUrl\":\"https://teams.microsoft.com/l/channel/19%3a81dc314389154e1998411bf683932381%40thread.tacv2/Groupe+03?groupId=e20b4cd7-91be-48ab-ac8d-fe46abd1b6ad&tenantId=901cb4ca-b862-4029-9306-e5cd0f6d9f86\",\"membershipType\":\"private\",\"moderationSettings\":null}]}\n"
     ]
    }
   ],
   "source": [
    "teamsId = 'e20b4cd7-91be-48ab-ac8d-fe46abd1b6ad'\n",
    "r = requests.get('https://graph.microsoft.com/beta/teams/'+teamsId+'/channels', auth=BearerAuth('eyJ0eXAiOiJKV1QiLCJub25jZSI6InMta2ZsUWJjWDdRdVh0VTZxZXA1RlBXZS1oaERmd1JKTnNPRDdneXhuRTAiLCJhbGciOiJSUzI1NiIsIng1dCI6IjVPZjlQNUY5Z0NDd0NtRjJCT0hIeEREUS1EayIsImtpZCI6IjVPZjlQNUY5Z0NDd0NtRjJCT0hIeEREUS1EayJ9.eyJhdWQiOiIwMDAwMDAwMy0wMDAwLTAwMDAtYzAwMC0wMDAwMDAwMDAwMDAiLCJpc3MiOiJodHRwczovL3N0cy53aW5kb3dzLm5ldC85MDFjYjRjYS1iODYyLTQwMjktOTMwNi1lNWNkMGY2ZDlmODYvIiwiaWF0IjoxNjA4MTk0ODk5LCJuYmYiOjE2MDgxOTQ4OTksImV4cCI6MTYwODE5ODc5OSwiYWNjdCI6MCwiYWNyIjoiMSIsImFjcnMiOlsidXJuOnVzZXI6cmVnaXN0ZXJzZWN1cml0eWluZm8iLCJ1cm46bWljcm9zb2Z0OnJlcTEiLCJ1cm46bWljcm9zb2Z0OnJlcTIiLCJ1cm46bWljcm9zb2Z0OnJlcTMiLCJjMSIsImMyIiwiYzMiLCJjNCIsImM1IiwiYzYiLCJjNyIsImM4IiwiYzkiLCJjMTAiLCJjMTEiLCJjMTIiLCJjMTMiLCJjMTQiLCJjMTUiLCJjMTYiLCJjMTciLCJjMTgiLCJjMTkiLCJjMjAiLCJjMjEiLCJjMjIiLCJjMjMiLCJjMjQiLCJjMjUiXSwiYWlvIjoiQVVRQXUvOFNBQUFBVlp5c2M0blJTbUZjVjNEbGxZQ01TaHNDUkFuVlZtcmpsUnZsZ0Z1V0lPZVdiU0VBY1FlVmxDU1V0TXdCZnVvR3dDQ2JSVWVKTmJPbmhBOWkvYlB6bGc9PSIsImFtciI6WyJwd2QiLCJtZmEiXSwiYXBwX2Rpc3BsYXluYW1lIjoiR3JhcGggZXhwbG9yZXIgKG9mZmljaWFsIHNpdGUpIiwiYXBwaWQiOiJkZThiYzhiNS1kOWY5LTQ4YjEtYThhZC1iNzQ4ZGE3MjUwNjQiLCJhcHBpZGFjciI6IjAiLCJmYW1pbHlfbmFtZSI6IlRhIiwiZ2l2ZW5fbmFtZSI6IkRhdmlkIiwiaWR0eXAiOiJ1c2VyIiwiaW5fY29ycCI6InRydWUiLCJpcGFkZHIiOiIzNy4xNjUuMjIxLjIyNSIsIm5hbWUiOiJEYXZpZCBUYSIsIm9pZCI6ImQ5OGE1OTgwLTJjZWItNGRhYi1hNmU2LTE1ZmQ1ZTc1MTVlYyIsIm9ucHJlbV9zaWQiOiJTLTEtNS0yMS0xNTUyNDM1Mjc3LTE1OTY0OTU3OTUtMzA4OTYxMzczMS00MDk4MSIsInBsYXRmIjoiMyIsInB1aWQiOiIxMDAzMjAwMEU5OUU0NDZBIiwicmgiOiIwLkFBQUF5clFja0dLNEtVQ1RCdVhORDIyZmhyWElpOTc1MmJGSXFLMjNTTnB5VUdSMEFPVS4iLCJzY3AiOiJHcm91cC5SZWFkLkFsbCBHcm91cC5SZWFkV3JpdGUuQWxsIG9wZW5pZCBwcm9maWxlIFVzZXIuUmVhZCBlbWFpbCIsInNpZ25pbl9zdGF0ZSI6WyJrbXNpIl0sInN1YiI6ImV3Z1BmVFZsek5QcTJrSDVUOTNINGNXSUVJTlNYTFNOc3ptNmIwd25fTzgiLCJ0ZW5hbnRfcmVnaW9uX3Njb3BlIjoiRVUiLCJ0aWQiOiI5MDFjYjRjYS1iODYyLTQwMjktOTMwNi1lNWNkMGY2ZDlmODYiLCJ1bmlxdWVfbmFtZSI6ImRhdmlkLnRhQGVwaXRlY2guZXUiLCJ1cG4iOiJkYXZpZC50YUBlcGl0ZWNoLmV1IiwidXRpIjoiM0hvcFZkMEt4RWVRSzl0YUxqdUdBQSIsInZlciI6IjEuMCIsIndpZHMiOlsiYjc5ZmJmNGQtM2VmOS00Njg5LTgxNDMtNzZiMTk0ZTg1NTA5Il0sInhtc19zdCI6eyJzdWIiOiJtS09VVXVURm1aeTZxRFZPNFA1eUJoaFpVLXd3NU8wb0tBYnA3RzhPYUN3In0sInhtc190Y2R0IjoxNDE3ODA0ODg3fQ.hTsad3av7rG8Mc_HgIWewKDr3u4Fz98E5ZbvwV5hhLZYgL3MVipcKqFP3m1qK43qrhSO3NOD9US_DXawbbQakpi1xrT_yZS0SbJ_dJl7peJfiTEEPAZ12_mhCCQOYwDJ1MdwPiSSTEmxZaxaMQdUaS4LrtXzhm0jaVsbhItEro76T_a1hvTWmiCte0_EW8hhFXA1Wa-KhkvPnVM4Rcz1isAN6li2dslzcTS0SyFcD4kQu-JaBdEWNgLbxn9p2GtK4DgxDT2Rp2QetnFh-JXtOUYZfYp2Vd1R9XzCMYW6iq7kM3yeqN0l4ZuYzOD9W6Cp7c6xdR95DpyHcrh43mU9ow'))\n",
    "\n",
    "print(r)\n",
    "print(r.text)"
   ]
  },
  {
   "cell_type": "code",
   "execution_count": 3,
   "metadata": {},
   "outputs": [
    {
     "name": "stdout",
     "output_type": "stream",
     "text": [
      "{'General': '19:860d4f4a79cd4932a4a3daa29db8f784@thread.tacv2', 'C-DAT-100 - Python Data Structure': '19:36be2edc99144232a0819f8ec29a8055@thread.tacv2', 'C-DAT-100 - Python Data Structure Yet Again': '19:972cb074d0b94cc6b6fb1e2394ab1e69@thread.tacv2', 'C-DAT-100 - HTTP Requests': '19:d7f803282158482abebd31b264ae4c68@thread.tacv2', 'C-DAT-100 - Web Scraping': '19:090a3e6fd21f4a17ac8832e65d61a0c7@thread.tacv2', 'C-DAT-100 - HTTP Server': '19:dddfd7fdfefa4c909ab8afe560ce87bc@thread.tacv2', 'Groupe 03': '19:81dc314389154e1998411bf683932381@thread.tacv2'}\n",
      "General 19:860d4f4a79cd4932a4a3daa29db8f784@thread.tacv2\n",
      "C-DAT-100 - Python Data Structure 19:36be2edc99144232a0819f8ec29a8055@thread.tacv2\n",
      "C-DAT-100 - Python Data Structure Yet Again 19:972cb074d0b94cc6b6fb1e2394ab1e69@thread.tacv2\n",
      "C-DAT-100 - HTTP Requests 19:d7f803282158482abebd31b264ae4c68@thread.tacv2\n",
      "C-DAT-100 - Web Scraping 19:090a3e6fd21f4a17ac8832e65d61a0c7@thread.tacv2\n",
      "C-DAT-100 - HTTP Server 19:dddfd7fdfefa4c909ab8afe560ce87bc@thread.tacv2\n",
      "Groupe 03 19:81dc314389154e1998411bf683932381@thread.tacv2\n"
     ]
    }
   ],
   "source": [
    "def getChannels():\n",
    "    content = json.loads(r.text)\n",
    "    teams = content[\"value\"] #récupération que de \"value\"\n",
    "\n",
    "    result_dict = {} #création du dict que je veux\n",
    "    for team in teams:\n",
    "        display_name = team[\"displayName\"]\n",
    "        id = team[\"id\"]\n",
    "        result_dict.update({display_name: id}) #affichage/update par rapport à ce que veut la consigne\n",
    "        \n",
    "    print(result_dict)\n",
    "    return result_dict\n",
    "    \n",
    "channels = getChannels ()\n",
    "for channel in channels :\n",
    "    print(channel, channels[channel])"
   ]
  },
  {
   "cell_type": "code",
   "execution_count": null,
   "metadata": {},
   "outputs": [],
   "source": []
  }
 ],
 "metadata": {
  "kernelspec": {
   "display_name": "Python 3",
   "language": "python",
   "name": "python3"
  },
  "language_info": {
   "codemirror_mode": {
    "name": "ipython",
    "version": 3
   },
   "file_extension": ".py",
   "mimetype": "text/x-python",
   "name": "python",
   "nbconvert_exporter": "python",
   "pygments_lexer": "ipython3",
   "version": "3.9.0"
  }
 },
 "nbformat": 4,
 "nbformat_minor": 4
}
